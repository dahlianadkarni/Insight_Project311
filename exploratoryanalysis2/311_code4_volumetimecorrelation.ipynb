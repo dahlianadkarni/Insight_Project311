{
 "metadata": {
  "name": "",
  "signature": "sha256:a2acd2a2b68bb260c4fa9305dfd98fbe529f240f7d18fe379b9fc708772c847c"
 },
 "nbformat": 3,
 "nbformat_minor": 0,
 "worksheets": [
  {
   "cells": [
    {
     "cell_type": "code",
     "collapsed": false,
     "input": [
      "import pandas as pd\n",
      "import numpy as np\n",
      "import csv\n",
      "import pymysql as mdb\n",
      "import pandas.io.sql as psql\n",
      "import matplotlib.pyplot as plt\n",
      "\n",
      "# pd.options.display.mpl_style = 'default'\n",
      "# import datetime\n",
      "# from sklearn import preprocessing, linear_model\n",
      "# import scipy.stats\n",
      "# import scipy\n",
      "# import math\n",
      "\n",
      "mydb = mdb.connect(host='localhost',\n",
      "    user='root',\n",
      "    passwd='',\n",
      "    db='311db_till2013')"
     ],
     "language": "python",
     "metadata": {},
     "outputs": [],
     "prompt_number": 2
    },
    {
     "cell_type": "code",
     "collapsed": false,
     "input": [
      "topagency = psql.read_sql(\"SELECT agency, count(*) FROM complaints GROUP BY agency ORDER BY COUNT(*) DESC\", con=mydb)\n",
      "topagency.head()"
     ],
     "language": "python",
     "metadata": {},
     "outputs": [
      {
       "html": [
        "<div style=\"max-height:1000px;max-width:1500px;overflow:auto;\">\n",
        "<table border=\"1\" class=\"dataframe\">\n",
        "  <thead>\n",
        "    <tr style=\"text-align: right;\">\n",
        "      <th></th>\n",
        "      <th>agency</th>\n",
        "      <th>count(*)</th>\n",
        "    </tr>\n",
        "  </thead>\n",
        "  <tbody>\n",
        "    <tr>\n",
        "      <th>0</th>\n",
        "      <td>  HPD</td>\n",
        "      <td> 2465257</td>\n",
        "    </tr>\n",
        "    <tr>\n",
        "      <th>1</th>\n",
        "      <td>  DOT</td>\n",
        "      <td> 1181671</td>\n",
        "    </tr>\n",
        "    <tr>\n",
        "      <th>2</th>\n",
        "      <td> NYPD</td>\n",
        "      <td>  673170</td>\n",
        "    </tr>\n",
        "    <tr>\n",
        "      <th>3</th>\n",
        "      <td>  DEP</td>\n",
        "      <td>  622012</td>\n",
        "    </tr>\n",
        "    <tr>\n",
        "      <th>4</th>\n",
        "      <td> DSNY</td>\n",
        "      <td>  498137</td>\n",
        "    </tr>\n",
        "  </tbody>\n",
        "</table>\n",
        "</div>"
       ],
       "metadata": {},
       "output_type": "pyout",
       "prompt_number": 6,
       "text": [
        "  agency  count(*)\n",
        "0    HPD   2465257\n",
        "1    DOT   1181671\n",
        "2   NYPD    673170\n",
        "3    DEP    622012\n",
        "4   DSNY    498137"
       ]
      }
     ],
     "prompt_number": 6
    },
    {
     "cell_type": "code",
     "collapsed": false,
     "input": [
      "# topcomplaintsHPD = psql.read_sql(\"SELECT complaint_type, count(*) FROM complaints WHERE agency='HPD'  GROUP BY complaint_type ORDER BY COUNT(*) DESC\", con=mydb)\n",
      "# topcomplaintsHPD.head()\n",
      "\n",
      "topcomplaintsHPD = psql.read_sql(\"SELECT complaint_type, count(*) FROM complaints WHERE agency='DOT'  GROUP BY complaint_type ORDER BY COUNT(*) DESC\", con=mydb)\n",
      "topcomplaintsHPD.head()"
     ],
     "language": "python",
     "metadata": {},
     "outputs": [
      {
       "html": [
        "<div style=\"max-height:1000px;max-width:1500px;overflow:auto;\">\n",
        "<table border=\"1\" class=\"dataframe\">\n",
        "  <thead>\n",
        "    <tr style=\"text-align: right;\">\n",
        "      <th></th>\n",
        "      <th>complaint_type</th>\n",
        "      <th>count(*)</th>\n",
        "    </tr>\n",
        "  </thead>\n",
        "  <tbody>\n",
        "    <tr>\n",
        "      <th>0</th>\n",
        "      <td>   Street Light Condition</td>\n",
        "      <td> 403300</td>\n",
        "    </tr>\n",
        "    <tr>\n",
        "      <th>1</th>\n",
        "      <td>         Street Condition</td>\n",
        "      <td> 361912</td>\n",
        "    </tr>\n",
        "    <tr>\n",
        "      <th>2</th>\n",
        "      <td> Traffic Signal Condition</td>\n",
        "      <td> 192443</td>\n",
        "    </tr>\n",
        "    <tr>\n",
        "      <th>3</th>\n",
        "      <td>        Broken Muni Meter</td>\n",
        "      <td>  85872</td>\n",
        "    </tr>\n",
        "    <tr>\n",
        "      <th>4</th>\n",
        "      <td>    Street Sign - Damaged</td>\n",
        "      <td>  35551</td>\n",
        "    </tr>\n",
        "  </tbody>\n",
        "</table>\n",
        "</div>"
       ],
       "metadata": {},
       "output_type": "pyout",
       "prompt_number": 116,
       "text": [
        "             complaint_type  count(*)\n",
        "0    Street Light Condition    403300\n",
        "1          Street Condition    361912\n",
        "2  Traffic Signal Condition    192443\n",
        "3         Broken Muni Meter     85872\n",
        "4     Street Sign - Damaged     35551"
       ]
      }
     ],
     "prompt_number": 116
    },
    {
     "cell_type": "code",
     "collapsed": false,
     "input": [
      "# topcomplaintsHPD = psql.read_sql(\"SELECT complaint_type, incident_zip, count(*) FROM complaints WHERE closed_date IS NOT NULL AND agency='HPD'  GROUP BY complaint_type,incident_zip ORDER BY COUNT(*) DESC\", con=mydb)\n",
      "# topcomplaintsHPD.head()\n",
      "\n",
      "# topcomplaintsHPD = psql.read_sql(\"SELECT complaint_type, descriptor, count(*) FROM complaints WHERE closed_date IS NOT NULL AND agency='HPD'  GROUP BY complaint_type,descriptor ORDER BY COUNT(*) DESC\", con=mydb)\n",
      "# topcomplaintsHPD.head()"
     ],
     "language": "python",
     "metadata": {},
     "outputs": [
      {
       "html": [
        "<div style=\"max-height:1000px;max-width:1500px;overflow:auto;\">\n",
        "<table border=\"1\" class=\"dataframe\">\n",
        "  <thead>\n",
        "    <tr style=\"text-align: right;\">\n",
        "      <th></th>\n",
        "      <th>complaint_type</th>\n",
        "      <th>descriptor</th>\n",
        "      <th>count(*)</th>\n",
        "    </tr>\n",
        "  </thead>\n",
        "  <tbody>\n",
        "    <tr>\n",
        "      <th>0</th>\n",
        "      <td>         HEATING</td>\n",
        "      <td>        HEAT</td>\n",
        "      <td> 772474</td>\n",
        "    </tr>\n",
        "    <tr>\n",
        "      <th>1</th>\n",
        "      <td>        NONCONST</td>\n",
        "      <td>      VERMIN</td>\n",
        "      <td> 170870</td>\n",
        "    </tr>\n",
        "    <tr>\n",
        "      <th>2</th>\n",
        "      <td> PAINT - PLASTER</td>\n",
        "      <td>     CEILING</td>\n",
        "      <td> 163048</td>\n",
        "    </tr>\n",
        "    <tr>\n",
        "      <th>3</th>\n",
        "      <td> PAINT - PLASTER</td>\n",
        "      <td>       WALLS</td>\n",
        "      <td> 153136</td>\n",
        "    </tr>\n",
        "    <tr>\n",
        "      <th>4</th>\n",
        "      <td>        PLUMBING</td>\n",
        "      <td> WATER-LEAKS</td>\n",
        "      <td> 149532</td>\n",
        "    </tr>\n",
        "  </tbody>\n",
        "</table>\n",
        "</div>"
       ],
       "metadata": {},
       "output_type": "pyout",
       "prompt_number": 117,
       "text": [
        "    complaint_type   descriptor  count(*)\n",
        "0          HEATING         HEAT    772474\n",
        "1         NONCONST       VERMIN    170870\n",
        "2  PAINT - PLASTER      CEILING    163048\n",
        "3  PAINT - PLASTER        WALLS    153136\n",
        "4         PLUMBING  WATER-LEAKS    149532"
       ]
      }
     ],
     "prompt_number": 117
    },
    {
     "cell_type": "code",
     "collapsed": false,
     "input": [
      "# topcomplaintsHPD = psql.read_sql(\"SELECT incident_zip,complaint_type,  count(*) FROM complaints WHERE closed_date IS NOT NULL AND agency='HPD'  AND complaint_type!='HEATING' GROUP BY complaint_type,incident_zip ORDER BY COUNT(*) DESC\", con=mydb)\n",
      "# topcomplaintsHPD.head()\n",
      "topcomplaintsHPD = psql.read_sql(\"SELECT incident_zip,complaint_type,descriptor, count(*) FROM complaints WHERE closed_date IS NOT NULL AND complaint_type='GENERAL CONSTRUCTION' AND incident_zip=11226 GROUP BY descriptor ORDER BY COUNT(*) DESC\", con=mydb)\n",
      "topcomplaintsHPD.head()"
     ],
     "language": "python",
     "metadata": {},
     "outputs": [
      {
       "html": [
        "<div style=\"max-height:1000px;max-width:1500px;overflow:auto;\">\n",
        "<table border=\"1\" class=\"dataframe\">\n",
        "  <thead>\n",
        "    <tr style=\"text-align: right;\">\n",
        "      <th></th>\n",
        "      <th>incident_zip</th>\n",
        "      <th>complaint_type</th>\n",
        "      <th>descriptor</th>\n",
        "      <th>count(*)</th>\n",
        "    </tr>\n",
        "  </thead>\n",
        "  <tbody>\n",
        "    <tr>\n",
        "      <th>0</th>\n",
        "      <td> 11226</td>\n",
        "      <td> GENERAL CONSTRUCTION</td>\n",
        "      <td>     MOLD</td>\n",
        "      <td> 3854</td>\n",
        "    </tr>\n",
        "    <tr>\n",
        "      <th>1</th>\n",
        "      <td> 11226</td>\n",
        "      <td> GENERAL CONSTRUCTION</td>\n",
        "      <td>    FLOOR</td>\n",
        "      <td> 3762</td>\n",
        "    </tr>\n",
        "    <tr>\n",
        "      <th>2</th>\n",
        "      <td> 11226</td>\n",
        "      <td> GENERAL CONSTRUCTION</td>\n",
        "      <td>  WINDOWS</td>\n",
        "      <td> 3093</td>\n",
        "    </tr>\n",
        "    <tr>\n",
        "      <th>3</th>\n",
        "      <td> 11226</td>\n",
        "      <td> GENERAL CONSTRUCTION</td>\n",
        "      <td>    DOORS</td>\n",
        "      <td> 2686</td>\n",
        "    </tr>\n",
        "    <tr>\n",
        "      <th>4</th>\n",
        "      <td> 11226</td>\n",
        "      <td> GENERAL CONSTRUCTION</td>\n",
        "      <td> CABINETS</td>\n",
        "      <td> 1602</td>\n",
        "    </tr>\n",
        "  </tbody>\n",
        "</table>\n",
        "</div>"
       ],
       "metadata": {},
       "output_type": "pyout",
       "prompt_number": 105,
       "text": [
        "  incident_zip        complaint_type descriptor  count(*)\n",
        "0        11226  GENERAL CONSTRUCTION       MOLD      3854\n",
        "1        11226  GENERAL CONSTRUCTION      FLOOR      3762\n",
        "2        11226  GENERAL CONSTRUCTION    WINDOWS      3093\n",
        "3        11226  GENERAL CONSTRUCTION      DOORS      2686\n",
        "4        11226  GENERAL CONSTRUCTION   CABINETS      1602"
       ]
      }
     ],
     "prompt_number": 105
    },
    {
     "cell_type": "code",
     "collapsed": false,
     "input": [
      "# # # complaint_type='GENERAL CONSTRUCTION' AND incident_zip=11226\n",
      "# dataclosed = psql.read_sql(\"SELECT created_date,closed_date,descriptor,due_date,status,latitude,longitude FROM complaints WHERE closed_date IS NOT NULL AND created_date IS NOT NULL AND complaint_type='GENERAL CONSTRUCTION' AND incident_zip=11226\", parse_dates=['created_date','closed_date'], con=mydb)\n",
      "\n",
      "# # # descriptor='MOLD'\n",
      "# dataclosed = psql.read_sql(\"SELECT created_date, closed_date, agency, incident_zip, complaint_type, descriptor, due_date FROM complaints WHERE closed_date IS NOT NULL AND created_date IS NOT NULL AND descriptor='MOLD'\", parse_dates=['created_date','closed_date'], con=mydb)\n",
      "\n",
      "# # # descriptor='Street%'\n",
      "# dataclosed = psql.read_sql(\"SELECT created_date, closed_date, agency, incident_zip, complaint_type, descriptor, due_date FROM complaints WHERE closed_date IS NOT NULL AND created_date IS NOT NULL AND complaint_type LIKE 'Street%'\", parse_dates=['created_date','closed_date'], con=mydb)\n",
      "\n",
      "# # # complaint_type='Street%'\n",
      "# dataclosed = psql.read_sql(\"SELECT created_date, closed_date, agency, incident_zip, complaint_type, descriptor, due_date FROM complaints WHERE closed_date IS NOT NULL AND created_date IS NOT NULL AND complaint_type='Street Light Condition'\", parse_dates=['created_date','closed_date'], con=mydb)\n",
      "\n",
      "# # complaint_type='Rodent%'\n",
      "dataclosed = psql.read_sql(\"SELECT created_date, closed_date, agency, incident_zip, complaint_type, descriptor, due_date FROM complaints WHERE closed_date IS NOT NULL AND created_date IS NOT NULL AND complaint_type='Rodent'\", parse_dates=['created_date','closed_date'], con=mydb)\n",
      "\n",
      "dataclosed.head()"
     ],
     "language": "python",
     "metadata": {},
     "outputs": [
      {
       "html": [
        "<div style=\"max-height:1000px;max-width:1500px;overflow:auto;\">\n",
        "<table border=\"1\" class=\"dataframe\">\n",
        "  <thead>\n",
        "    <tr style=\"text-align: right;\">\n",
        "      <th></th>\n",
        "      <th>created_date</th>\n",
        "      <th>closed_date</th>\n",
        "      <th>agency</th>\n",
        "      <th>incident_zip</th>\n",
        "      <th>complaint_type</th>\n",
        "      <th>descriptor</th>\n",
        "      <th>due_date</th>\n",
        "    </tr>\n",
        "  </thead>\n",
        "  <tbody>\n",
        "    <tr>\n",
        "      <th>0</th>\n",
        "      <td>2013-12-31</td>\n",
        "      <td>2014-01-09 00:00:00</td>\n",
        "      <td> DOHMH</td>\n",
        "      <td> 10031</td>\n",
        "      <td> Rodent</td>\n",
        "      <td>                 Rat Sighting</td>\n",
        "      <td> 01/30/2014 08:17:10 PM</td>\n",
        "    </tr>\n",
        "    <tr>\n",
        "      <th>1</th>\n",
        "      <td>2013-12-31</td>\n",
        "      <td>2013-12-13 00:00:00</td>\n",
        "      <td> DOHMH</td>\n",
        "      <td> 10472</td>\n",
        "      <td> Rodent</td>\n",
        "      <td>                 Rat Sighting</td>\n",
        "      <td> 01/30/2014 12:48:35 PM</td>\n",
        "    </tr>\n",
        "    <tr>\n",
        "      <th>2</th>\n",
        "      <td>2013-12-31</td>\n",
        "      <td>2014-01-13 16:54:17</td>\n",
        "      <td> DOHMH</td>\n",
        "      <td> 10467</td>\n",
        "      <td> Rodent</td>\n",
        "      <td>                 Rat Sighting</td>\n",
        "      <td> 01/30/2014 01:41:23 PM</td>\n",
        "    </tr>\n",
        "    <tr>\n",
        "      <th>3</th>\n",
        "      <td>2013-12-31</td>\n",
        "      <td>2014-01-09 00:00:00</td>\n",
        "      <td> DOHMH</td>\n",
        "      <td> 10028</td>\n",
        "      <td> Rodent</td>\n",
        "      <td> Condition Attracting Rodents</td>\n",
        "      <td> 01/30/2014 09:41:55 AM</td>\n",
        "    </tr>\n",
        "    <tr>\n",
        "      <th>4</th>\n",
        "      <td>2013-12-31</td>\n",
        "      <td>2014-01-08 11:39:25</td>\n",
        "      <td> DOHMH</td>\n",
        "      <td> 11377</td>\n",
        "      <td> Rodent</td>\n",
        "      <td>                 Rat Sighting</td>\n",
        "      <td> 01/30/2014 12:36:29 PM</td>\n",
        "    </tr>\n",
        "  </tbody>\n",
        "</table>\n",
        "</div>"
       ],
       "metadata": {},
       "output_type": "pyout",
       "prompt_number": 142,
       "text": [
        "  created_date         closed_date agency incident_zip complaint_type  \\\n",
        "0   2013-12-31 2014-01-09 00:00:00  DOHMH        10031         Rodent   \n",
        "1   2013-12-31 2013-12-13 00:00:00  DOHMH        10472         Rodent   \n",
        "2   2013-12-31 2014-01-13 16:54:17  DOHMH        10467         Rodent   \n",
        "3   2013-12-31 2014-01-09 00:00:00  DOHMH        10028         Rodent   \n",
        "4   2013-12-31 2014-01-08 11:39:25  DOHMH        11377         Rodent   \n",
        "\n",
        "                     descriptor                due_date  \n",
        "0                  Rat Sighting  01/30/2014 08:17:10 PM  \n",
        "1                  Rat Sighting  01/30/2014 12:48:35 PM  \n",
        "2                  Rat Sighting  01/30/2014 01:41:23 PM  \n",
        "3  Condition Attracting Rodents  01/30/2014 09:41:55 AM  \n",
        "4                  Rat Sighting  01/30/2014 12:36:29 PM  "
       ]
      }
     ],
     "prompt_number": 142
    },
    {
     "cell_type": "code",
     "collapsed": false,
     "input": [
      "set(dataclosed['descriptor'])\n",
      "# dataclosed = dataclosed[dataclosed['descriptor']=='HEAT']"
     ],
     "language": "python",
     "metadata": {},
     "outputs": [
      {
       "metadata": {},
       "output_type": "pyout",
       "prompt_number": 143,
       "text": [
        "{'Condition Attracting Rodents',\n",
        " 'Mouse Sighting',\n",
        " 'Rat Sighting',\n",
        " 'Rodent Bite - PCS Only',\n",
        " 'Signs of Rodents'}"
       ]
      }
     ],
     "prompt_number": 143
    },
    {
     "cell_type": "code",
     "collapsed": false,
     "input": [
      "# complaints = dataclosed[['created_date','descriptor']]\n",
      "index = dataclosed['created_date']>'2010-01-01'\n",
      "dataclosed = dataclosed[index]\n",
      "complaints = dataclosed[['created_date','descriptor']]\n",
      "complaints_volume= complaints.set_index('created_date').sort_index().resample('W', how=len)\n",
      "# complaints_volume\n",
      "complaints_volume.plot()\n",
      "len(complaints_volume)\n",
      "# complaints_volume.plot()"
     ],
     "language": "python",
     "metadata": {},
     "outputs": [
      {
       "metadata": {},
       "output_type": "pyout",
       "prompt_number": 144,
       "text": [
        "200"
       ]
      },
      {
       "metadata": {},
       "output_type": "display_data",
       "png": "[encoded data removed]",
       "text": [
        "<matplotlib.figure.Figure at 0x1105eb390>"
       ]
      }
     ],
     "prompt_number": 144
    },
    {
     "cell_type": "code",
     "collapsed": false,
     "input": [
      "ClosedDate = pd.to_datetime(pd.Series(dataclosed['closed_date']))\n",
      "CreatedDate = pd.to_datetime(pd.Series(dataclosed['created_date']))\n",
      "ActualTime = ClosedDate-CreatedDate\n",
      "ActualTime = ActualTime.astype('timedelta64[D]')\n",
      "index1 = (ActualTime>0)\n",
      "ActualTime = ActualTime[index1]\n",
      "dataclosed1 = dataclosed[index1]\n",
      "dataclosed1['actual_time']=ActualTime\n",
      "\n",
      "ResTimesAct = dataclosed1[['created_date','actual_time']].set_index('created_date').sort_index().resample('W', how='mean')\n",
      "ResTimesAct.plot()\n",
      "len(ResTimesAct)\n",
      "\n",
      "complaints = dataclosed[['created_date','descriptor']][index1]\n",
      "complaints_volume= complaints.set_index('created_date').sort_index().resample('W', how=len)\n",
      "complaints_volume.plot()\n",
      "len(complaints_volume)\n",
      "\n",
      "# ResTimesAct['ResTimeActual']\n",
      "# ResTimesAct = pd.DataFrame(ResTimesAct)\n",
      "# ResTimesAct = ResTimesAct.set_index('Created Date').sort_index()\n",
      "# ResTimesAct\n",
      "# # ResTimesAct.astype('timedelta64[m]').mean()\n",
      "# ResTimesAct.astype('timedelta64[m]').std()\n",
      "# ResTimesAct.astype('timedelta64[m]').resample('D', how='mean').plot()\n"
     ],
     "language": "python",
     "metadata": {},
     "outputs": [
      {
       "metadata": {},
       "output_type": "pyout",
       "prompt_number": 150,
       "text": [
        "184"
       ]
      },
      {
       "metadata": {},
       "output_type": "display_data",
       "png": "[encoded data removed]",
       "text": [
        "<matplotlib.figure.Figure at 0x114156dd0>"
       ]
      },
      {
       "metadata": {},
       "output_type": "display_data",
       "png": "[encoded data removed]",
       "text": [
        "<matplotlib.figure.Figure at 0x1133a0090>"
       ]
      }
     ],
     "prompt_number": 150
    },
    {
     "cell_type": "code",
     "collapsed": false,
     "input": [
      "# plot(ResTimesAct,log(complaints_volume),'.')\n",
      "# plot(log(ResTimesAct),log(complaints_volume),'.')\n",
      "plot(ResTimesAct,complaints_volume,'.')"
     ],
     "language": "python",
     "metadata": {},
     "outputs": [
      {
       "metadata": {},
       "output_type": "pyout",
       "prompt_number": 152,
       "text": [
        "[<matplotlib.lines.Line2D at 0x11372fd90>]"
       ]
      },
      {
       "metadata": {},
       "output_type": "display_data",
       "png": "[encoded data removed]",
       "text": [
        "<matplotlib.figure.Figure at 0x1136f82d0>"
       ]
      }
     ],
     "prompt_number": 152
    },
    {
     "cell_type": "code",
     "collapsed": false,
     "input": [],
     "language": "python",
     "metadata": {},
     "outputs": []
    }
   ],
   "metadata": {}
  }
 ]
}